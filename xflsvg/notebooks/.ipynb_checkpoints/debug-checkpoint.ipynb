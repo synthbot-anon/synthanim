{
 "cells": [
  {
   "cell_type": "code",
   "execution_count": 1,
   "id": "d1fb3cf7",
   "metadata": {},
   "outputs": [],
   "source": [
    "import sys\n",
    "sys.path.append('../src')\n",
    "%load_ext autoreload\n",
    "%autoreload 2"
   ]
  },
  {
   "cell_type": "code",
   "execution_count": 2,
   "id": "3705d932",
   "metadata": {},
   "outputs": [
    {
     "name": "stdout",
     "output_type": "stream",
     "text": [
      "wtf\n"
     ]
    }
   ],
   "source": [
    "import xflsvg\n",
    "path = r'C:\\Users\\synthbot\\Desktop\\berry-dest\\dump-test\\dump4\\second-draft\\sep\\MLP214_015'"
   ]
  },
  {
   "cell_type": "code",
   "execution_count": null,
   "id": "117a30c3",
   "metadata": {},
   "outputs": [],
   "source": [
    "from xflsvg import XflSvg, XflSvgRenderer, XflSvgRecorder\n",
    "from xflsvg.renderer import *\n",
    "\n",
    "path = r'C:\\Users\\synthbot\\Desktop\\berry-dest\\dump-test\\dump4\\second-draft\\sep\\MLP422_100'\n",
    "recorder = XflSvgRecorder(path)\n",
    "for frame in recorder.frames.snapshots:\n",
    "    frame.render()\n",
    "\n",
    "print(recorder.get_shapes())"
   ]
  },
  {
   "cell_type": "code",
   "execution_count": 3,
   "id": "9d243fb9",
   "metadata": {},
   "outputs": [
    {
     "name": "stdout",
     "output_type": "stream",
     "text": [
      "                    width  height\n",
      "assetId                          \n",
      "file:///MLP422_100    864     486\n"
     ]
    }
   ],
   "source": [
    "import pandas\n",
    "documents = pandas.read_parquet(f'{path}/tables/documents.data.parquet')\n",
    "print(documents)\n"
   ]
  },
  {
   "cell_type": "code",
   "execution_count": null,
   "id": "0eab4de5",
   "metadata": {},
   "outputs": [
    {
     "name": "stdout",
     "output_type": "stream",
     "text": [
      "<xflsvg.renderer.DataFrameRenderer object at 0x00000160960A8BB0>\n"
     ]
    }
   ],
   "source": [
    "from xflsvg import XflSvg, XflSvgRenderer, XflSvgRecorder\n",
    "from xflsvg.renderer import *\n",
    "\n",
    "\n",
    "df = DataFrameRenderer(f'{path}/tables', f'{path}/spritemaps')\n",
    "print(df)"
   ]
  },
  {
   "cell_type": "code",
   "execution_count": 49,
   "id": "234e63f3",
   "metadata": {},
   "outputs": [
    {
     "name": "stdout",
     "output_type": "stream",
     "text": [
      "{13955, 12420, 15108, 4742, 9227, 9611, 13579, 14732, 17552, 14356, 5269, 3862, 17176, 16800, 7457, 7841, 8225, 8609, 8993, 16424, 16048, 4146, 5887, 12210, 10037, 10421, 10805, 11189, 11573, 15672, 4414, 6463, 6847, 6079, 5695, 13120, 2756, 15296, 13767, 3656, 14920, 6655, 9419, 9803, 13391, 14544, 17364, 5461, 7039, 14168, 12889, 16988, 11998, 7265, 7649, 8033, 8417, 8801, 12641, 16612, 4970, 16236, 15860, 10229, 10613, 10997, 11381, 11765, 15484, 6271}\n"
     ]
    }
   ],
   "source": [
    "pending_frames = [2767]\n",
    "all_frames = []\n",
    "while pending_frames:\n",
    "    next_frame = pending_frames.pop()\n",
    "    all_frames.append(next_frame)\n",
    "    for frame_data in f[f['frameId'] == next_frame].itertuples():\n",
    "        children = frame_data.childFrameIds\n",
    "        pending_frames.extend(children)\n"
   ]
  },
  {
   "cell_type": "code",
   "execution_count": 16,
   "id": "e50ba9ce",
   "metadata": {},
   "outputs": [
    {
     "ename": "KeyboardInterrupt",
     "evalue": "",
     "output_type": "error",
     "traceback": [
      "\u001b[0;31m---------------------------------------------------------------------------\u001b[0m",
      "\u001b[0;31mKeyboardInterrupt\u001b[0m                         Traceback (most recent call last)",
      "\u001b[0;32m/tmp/ipykernel_179/1683558800.py\u001b[0m in \u001b[0;36m<module>\u001b[0;34m\u001b[0m\n\u001b[1;32m      6\u001b[0m \u001b[0;32mfor\u001b[0m \u001b[0mi\u001b[0m\u001b[0;34m,\u001b[0m \u001b[0mframe\u001b[0m \u001b[0;32min\u001b[0m \u001b[0menumerate\u001b[0m\u001b[0;34m(\u001b[0m\u001b[0mxr\u001b[0m\u001b[0;34m.\u001b[0m\u001b[0mframes\u001b[0m\u001b[0;34m)\u001b[0m\u001b[0;34m:\u001b[0m\u001b[0;34m\u001b[0m\u001b[0;34m\u001b[0m\u001b[0m\n\u001b[1;32m      7\u001b[0m     \u001b[0;32mwith\u001b[0m \u001b[0mpng_canvas\u001b[0m\u001b[0;34m(\u001b[0m\u001b[0;34mf\"/data/outputs/output-xfl{i}.png\"\u001b[0m\u001b[0;34m,\u001b[0m \u001b[0;36m1500\u001b[0m\u001b[0;34m,\u001b[0m \u001b[0;36m1500\u001b[0m\u001b[0;34m)\u001b[0m\u001b[0;34m:\u001b[0m\u001b[0;34m\u001b[0m\u001b[0;34m\u001b[0m\u001b[0m\n\u001b[0;32m----> 8\u001b[0;31m         \u001b[0mframe\u001b[0m\u001b[0;34m.\u001b[0m\u001b[0mrender\u001b[0m\u001b[0;34m(\u001b[0m\u001b[0;34m)\u001b[0m\u001b[0;34m\u001b[0m\u001b[0;34m\u001b[0m\u001b[0m\n\u001b[0m",
      "\u001b[0;32m/usr/lib/python3.8/contextlib.py\u001b[0m in \u001b[0;36m__exit__\u001b[0;34m(self, type, value, traceback)\u001b[0m\n\u001b[1;32m    118\u001b[0m         \u001b[0;32mif\u001b[0m \u001b[0mtype\u001b[0m \u001b[0;32mis\u001b[0m \u001b[0;32mNone\u001b[0m\u001b[0;34m:\u001b[0m\u001b[0;34m\u001b[0m\u001b[0;34m\u001b[0m\u001b[0m\n\u001b[1;32m    119\u001b[0m             \u001b[0;32mtry\u001b[0m\u001b[0;34m:\u001b[0m\u001b[0;34m\u001b[0m\u001b[0;34m\u001b[0m\u001b[0m\n\u001b[0;32m--> 120\u001b[0;31m                 \u001b[0mnext\u001b[0m\u001b[0;34m(\u001b[0m\u001b[0mself\u001b[0m\u001b[0;34m.\u001b[0m\u001b[0mgen\u001b[0m\u001b[0;34m)\u001b[0m\u001b[0;34m\u001b[0m\u001b[0;34m\u001b[0m\u001b[0m\n\u001b[0m\u001b[1;32m    121\u001b[0m             \u001b[0;32mexcept\u001b[0m \u001b[0mStopIteration\u001b[0m\u001b[0;34m:\u001b[0m\u001b[0;34m\u001b[0m\u001b[0;34m\u001b[0m\u001b[0m\n\u001b[1;32m    122\u001b[0m                 \u001b[0;32mreturn\u001b[0m \u001b[0;32mFalse\u001b[0m\u001b[0;34m\u001b[0m\u001b[0;34m\u001b[0m\u001b[0m\n",
      "\u001b[0;32m/data/src/xflsvg/notebooks/../src/xflsvg/renderer.py\u001b[0m in \u001b[0;36mpng_canvas\u001b[0;34m(path, width, height)\u001b[0m\n\u001b[1;32m     27\u001b[0m     \u001b[0;32mfinally\u001b[0m\u001b[0;34m:\u001b[0m\u001b[0;34m\u001b[0m\u001b[0;34m\u001b[0m\u001b[0m\n\u001b[1;32m     28\u001b[0m         \u001b[0m_cairo_context\u001b[0m\u001b[0;34m.\u001b[0m\u001b[0mstack\u001b[0m\u001b[0;34m.\u001b[0m\u001b[0mpop\u001b[0m\u001b[0;34m(\u001b[0m\u001b[0;34m)\u001b[0m\u001b[0;34m\u001b[0m\u001b[0;34m\u001b[0m\u001b[0m\n\u001b[0;32m---> 29\u001b[0;31m         \u001b[0moutput\u001b[0m\u001b[0;34m.\u001b[0m\u001b[0mwrite_to_png\u001b[0m\u001b[0;34m(\u001b[0m\u001b[0mpath\u001b[0m\u001b[0;34m)\u001b[0m\u001b[0;34m\u001b[0m\u001b[0;34m\u001b[0m\u001b[0m\n\u001b[0m\u001b[1;32m     30\u001b[0m \u001b[0;34m\u001b[0m\u001b[0m\n\u001b[1;32m     31\u001b[0m \u001b[0;34m\u001b[0m\u001b[0m\n",
      "\u001b[0;32m/usr/local/lib/python3.8/dist-packages/cairocffi/surfaces.py\u001b[0m in \u001b[0;36mwrite_to_png\u001b[0;34m(self, target)\u001b[0m\n\u001b[1;32m    676\u001b[0m                     \u001b[0mpng_file\u001b[0m\u001b[0;34m.\u001b[0m\u001b[0munlink\u001b[0m\u001b[0;34m(\u001b[0m\u001b[0;34m)\u001b[0m\u001b[0;34m\u001b[0m\u001b[0;34m\u001b[0m\u001b[0m\n\u001b[1;32m    677\u001b[0m         \u001b[0;32melse\u001b[0m\u001b[0;34m:\u001b[0m\u001b[0;34m\u001b[0m\u001b[0;34m\u001b[0m\u001b[0m\n\u001b[0;32m--> 678\u001b[0;31m             _check_status(cairo.cairo_surface_write_to_png(\n\u001b[0m\u001b[1;32m    679\u001b[0m                 self._pointer, _encode_filename(target)))\n\u001b[1;32m    680\u001b[0m         \u001b[0;32mif\u001b[0m \u001b[0mreturn_bytes\u001b[0m\u001b[0;34m:\u001b[0m\u001b[0;34m\u001b[0m\u001b[0;34m\u001b[0m\u001b[0m\n",
      "\u001b[0;31mKeyboardInterrupt\u001b[0m: "
     ]
    }
   ],
   "source": [
    "from xflsvg import XflSvgRenderer\n",
    "from xflsvg.renderer import png_canvas\n",
    "\n",
    "path = r'/data/samples/422/MLP422_100'\n",
    "xr = XflSvgRenderer(path)\n",
    "for i, frame in enumerate(xr.frames):\n",
    "    with png_canvas(f\"/data/outputs/output-xfl{i}.png\", 1500, 1500):\n",
    "        frame.render()"
   ]
  },
  {
   "cell_type": "code",
   "execution_count": 3,
   "id": "5f5b9309",
   "metadata": {},
   "outputs": [
    {
     "name": "stdout",
     "output_type": "stream",
     "text": [
      "wtgf\n"
     ]
    }
   ],
   "source": [
    "xflsvg.xflsvg.testing()"
   ]
  }
 ],
 "metadata": {
  "interpreter": {
   "hash": "90ed6ef29f8e17c70c490fe1d094576cb32f15fce16270738fcb1c287c3076ad"
  },
  "kernelspec": {
   "display_name": "Python 3 (ipykernel)",
   "language": "python",
   "name": "python3"
  },
  "language_info": {
   "codemirror_mode": {
    "name": "ipython",
    "version": 3
   },
   "file_extension": ".py",
   "mimetype": "text/x-python",
   "name": "python",
   "nbconvert_exporter": "python",
   "pygments_lexer": "ipython3",
   "version": "3.8.10"
  }
 },
 "nbformat": 4,
 "nbformat_minor": 5
}
