{
 "cells": [
  {
   "cell_type": "code",
   "execution_count": 1,
   "source": [
    "import sys\r\n",
    "sys.path.append('../')\r\n",
    "%load_ext autoreload\r\n",
    "%autoreload 2"
   ],
   "outputs": [],
   "metadata": {}
  },
  {
   "cell_type": "code",
   "execution_count": 2,
   "source": [
    "import xflsvg\r\n",
    "path = r'C:\\Users\\synthbot\\Desktop\\berry-dest\\dump-test\\dump4\\second-draft\\sep\\MLP422_100'"
   ],
   "outputs": [],
   "metadata": {}
  },
  {
   "cell_type": "code",
   "execution_count": null,
   "source": [
    "from xflsvg import XflSvg, XflSvgRenderer, XflSvgRecorder\r\n",
    "from xflsvg.renderer import *\r\n",
    "\r\n",
    "\r\n",
    "xfl_shapes = XflSvgRecorder(path)\r\n",
    "print(xfl_shapes.get_shapes())"
   ],
   "outputs": [],
   "metadata": {}
  },
  {
   "cell_type": "code",
   "execution_count": 48,
   "source": [
    "from xflsvg import XflSvg, XflSvgRenderer, XflSvgRecorder\r\n",
    "from xflsvg.renderer import *\r\n",
    "\r\n",
    "\r\n",
    "df = DataFrameRenderer(f'{path}/tables', f'{path}/spritemaps')\r\n",
    "print(df)"
   ],
   "outputs": [
    {
     "output_type": "stream",
     "name": "stdout",
     "text": [
      "<xflsvg.renderer.DataFrameRenderer object at 0x00000160960A8BB0>\n"
     ]
    }
   ],
   "metadata": {}
  },
  {
   "cell_type": "code",
   "execution_count": 49,
   "source": [
    "frames = set(df.frames.index.to_list())\r\n",
    "children = df.frames['childFrameIds'].to_list()\r\n",
    "\r\n",
    "c = set()\r\n",
    "for child in children:\r\n",
    "    c.update(child)\r\n",
    "children = c\r\n",
    "\r\n",
    "print(frames - children)"
   ],
   "outputs": [
    {
     "output_type": "stream",
     "name": "stdout",
     "text": [
      "{13955, 12420, 15108, 4742, 9227, 9611, 13579, 14732, 17552, 14356, 5269, 3862, 17176, 16800, 7457, 7841, 8225, 8609, 8993, 16424, 16048, 4146, 5887, 12210, 10037, 10421, 10805, 11189, 11573, 15672, 4414, 6463, 6847, 6079, 5695, 13120, 2756, 15296, 13767, 3656, 14920, 6655, 9419, 9803, 13391, 14544, 17364, 5461, 7039, 14168, 12889, 16988, 11998, 7265, 7649, 8033, 8417, 8801, 12641, 16612, 4970, 16236, 15860, 10229, 10613, 10997, 11381, 11765, 15484, 6271}\n"
     ]
    }
   ],
   "metadata": {}
  },
  {
   "cell_type": "code",
   "execution_count": 55,
   "source": [
    "from xflsvg.renderer import DataFrameRenderer\r\n",
    "from xflsvg.renderer import png_canvas\r\n",
    "\r\n",
    "xr = DataFrameRenderer(path)\r\n",
    "with png_canvas('output.png', 5000, 5000):\r\n",
    "    df.render_frame(6271)"
   ],
   "outputs": [],
   "metadata": {}
  },
  {
   "cell_type": "code",
   "execution_count": 5,
   "source": [
    "from xflsvg import XflSvgRenderer\r\n",
    "from xflsvg.renderer import png_canvas\r\n",
    "\r\n",
    "xr = XflSvgRenderer(path)\r\n",
    "with png_canvas(\"output-xfl.png\", 5000, 5000):\r\n",
    "    xr.frames[10].render()"
   ],
   "outputs": [],
   "metadata": {}
  }
 ],
 "metadata": {
  "kernelspec": {
   "name": "python3",
   "display_name": "Python 3.9.6 64-bit ('xflsvg': conda)"
  },
  "language_info": {
   "codemirror_mode": {
    "name": "ipython",
    "version": 3
   },
   "file_extension": ".py",
   "mimetype": "text/x-python",
   "name": "python",
   "nbconvert_exporter": "python",
   "pygments_lexer": "ipython3",
   "version": "3.9.6"
  },
  "interpreter": {
   "hash": "4eecbcd9f208fd6301047a472f1dbd0d822eaba83440b6309ce508eb2ae773b6"
  }
 },
 "nbformat": 4,
 "nbformat_minor": 5
}