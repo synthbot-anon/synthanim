{
 "cells": [
  {
   "cell_type": "code",
   "execution_count": null,
   "source": [
    "import sys\r\n",
    "sys.path.append('../')\r\n",
    "%load_ext autoreload\r\n",
    "%autoreload 2"
   ],
   "outputs": [
    {
     "output_type": "error",
     "ename": "Error",
     "evalue": "Session cannot generate requests",
     "traceback": [
      "Error: Session cannot generate requests",
      "at w.executeCodeCell (c:\\Users\\synthbot\\.vscode\\extensions\\ms-toolsai.jupyter-2021.8.2041215044\\out\\client\\extension.js:52:301310)",
      "at w.execute (c:\\Users\\synthbot\\.vscode\\extensions\\ms-toolsai.jupyter-2021.8.2041215044\\out\\client\\extension.js:52:300703)",
      "at w.start (c:\\Users\\synthbot\\.vscode\\extensions\\ms-toolsai.jupyter-2021.8.2041215044\\out\\client\\extension.js:52:296367)",
      "at runMicrotasks (<anonymous>)",
      "at processTicksAndRejections (internal/process/task_queues.js:93:5)",
      "at async t.CellExecutionQueue.executeQueuedCells (c:\\Users\\synthbot\\.vscode\\extensions\\ms-toolsai.jupyter-2021.8.2041215044\\out\\client\\extension.js:52:311160)",
      "at async t.CellExecutionQueue.start (c:\\Users\\synthbot\\.vscode\\extensions\\ms-toolsai.jupyter-2021.8.2041215044\\out\\client\\extension.js:52:310700)"
     ]
    }
   ],
   "metadata": {}
  },
  {
   "cell_type": "code",
   "execution_count": 2,
   "source": [
    "import xflsvg\r\n",
    "path = r'C:\\Users\\synthbot\\Desktop\\berry-dest\\dump-test\\dump4\\second-draft\\sep\\MLP214_015'"
   ],
   "outputs": [],
   "metadata": {}
  },
  {
   "cell_type": "code",
   "execution_count": null,
   "source": [
    "from xflsvg import XflSvg, XflSvgRenderer, XflSvgRecorder\r\n",
    "from xflsvg.renderer import *\r\n",
    "\r\n",
    "path = r'C:\\Users\\synthbot\\Desktop\\berry-dest\\dump-test\\dump4\\second-draft\\sep\\MLP422_100'\r\n",
    "recorder = XflSvgRecorder(path)\r\n",
    "for frame in recorder.frames.snapshots:\r\n",
    "    frame.render()\r\n",
    "\r\n",
    "print(recorder.get_shapes())"
   ],
   "outputs": [],
   "metadata": {}
  },
  {
   "cell_type": "code",
   "execution_count": 3,
   "source": [
    "import pandas\r\n",
    "documents = pandas.read_parquet(f'{path}/tables/documents.data.parquet')\r\n",
    "print(documents)\r\n"
   ],
   "outputs": [
    {
     "output_type": "stream",
     "name": "stdout",
     "text": [
      "                    width  height\n",
      "assetId                          \n",
      "file:///MLP422_100    864     486\n"
     ]
    }
   ],
   "metadata": {}
  },
  {
   "cell_type": "code",
   "execution_count": null,
   "source": [
    "from xflsvg import XflSvg, XflSvgRenderer, XflSvgRecorder\r\n",
    "from xflsvg.renderer import *\r\n",
    "\r\n",
    "\r\n",
    "df = DataFrameRenderer(f'{path}/tables', f'{path}/spritemaps')\r\n",
    "print(df)"
   ],
   "outputs": [
    {
     "output_type": "stream",
     "name": "stdout",
     "text": [
      "<xflsvg.renderer.DataFrameRenderer object at 0x00000160960A8BB0>\n"
     ]
    }
   ],
   "metadata": {}
  },
  {
   "cell_type": "code",
   "execution_count": 49,
   "source": [
    "pending_frames = [2767]\r\n",
    "all_frames = []\r\n",
    "while pending_frames:\r\n",
    "    next_frame = pending_frames.pop()\r\n",
    "    all_frames.append(next_frame)\r\n",
    "    for frame_data in f[f['frameId'] == next_frame].itertuples():\r\n",
    "        children = frame_data.childFrameIds\r\n",
    "        pending_frames.extend(children)\r\n"
   ],
   "outputs": [
    {
     "output_type": "stream",
     "name": "stdout",
     "text": [
      "{13955, 12420, 15108, 4742, 9227, 9611, 13579, 14732, 17552, 14356, 5269, 3862, 17176, 16800, 7457, 7841, 8225, 8609, 8993, 16424, 16048, 4146, 5887, 12210, 10037, 10421, 10805, 11189, 11573, 15672, 4414, 6463, 6847, 6079, 5695, 13120, 2756, 15296, 13767, 3656, 14920, 6655, 9419, 9803, 13391, 14544, 17364, 5461, 7039, 14168, 12889, 16988, 11998, 7265, 7649, 8033, 8417, 8801, 12641, 16612, 4970, 16236, 15860, 10229, 10613, 10997, 11381, 11765, 15484, 6271}\n"
     ]
    }
   ],
   "metadata": {}
  },
  {
   "cell_type": "code",
   "execution_count": null,
   "source": [
    "from xflsvg.renderer import DataFrameRenderer\r\n",
    "from xflsvg.renderer import png_canvas\r\n",
    "import xflsvg\r\n",
    "path = r'C:\\Users\\synthbot\\Desktop\\berry-dest\\dump-test\\dump4\\second-draft\\sep\\MLP422_100'\r\n",
    "df = DataFrameRenderer(f'{path}/tables', f'{path}/spritemaps')\r\n",
    "\r\n",
    "def r(*ids):\r\n",
    "    with png_canvas('output-df.png', 5000, 5000):\r\n",
    "        for id in ids:\r\n",
    "            df.render_frame(id)\r\n",
    "\r\n",
    "r(2757, 2767, 3654)"
   ],
   "outputs": [],
   "metadata": {}
  },
  {
   "cell_type": "code",
   "execution_count": 5,
   "source": [
    "from xflsvg import XflSvgRenderer\r\n",
    "from xflsvg.renderer import png_canvas\r\n",
    "\r\n",
    "path = r'C:\\Users\\synthbot\\Desktop\\berry-dest\\dump-test\\dump4\\second-draft\\sep\\MLP422_100'\r\n",
    "xr = XflSvgRenderer(path)\r\n",
    "with png_canvas(\"output-xfl.png\", 5000, 5000):\r\n",
    "    xr.frames[0].render()"
   ],
   "outputs": [],
   "metadata": {}
  }
 ],
 "metadata": {
  "kernelspec": {
   "name": "python3",
   "display_name": "Python 3.9.7 64-bit (conda)"
  },
  "language_info": {
   "codemirror_mode": {
    "name": "ipython",
    "version": 3
   },
   "file_extension": ".py",
   "mimetype": "text/x-python",
   "name": "python",
   "nbconvert_exporter": "python",
   "pygments_lexer": "ipython3",
   "version": "3.9.7"
  },
  "interpreter": {
   "hash": "90ed6ef29f8e17c70c490fe1d094576cb32f15fce16270738fcb1c287c3076ad"
  }
 },
 "nbformat": 4,
 "nbformat_minor": 5
}